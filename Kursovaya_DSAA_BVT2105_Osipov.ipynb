{
 "cells": [
  {
   "cell_type": "markdown",
   "id": "94cc6cf5",
   "metadata": {},
   "source": [
    " # Курсовая работа\n",
    " \n",
    " ## Выполнил студент группы БВТ2105 Осипов Егор"
   ]
  },
  {
   "cell_type": "markdown",
   "id": "34c27e5c",
   "metadata": {},
   "source": [
    "## Задание:\n",
    "\n",
    "Написать программу, которая будет считывать данные из CSV файла, содержащего\n",
    "информацию о продажах товаров в магазине. Данные в файле содержатся в следующем\n",
    "формате:\n",
    "| Номер заказа | Дата заказа | Название товара | Категория товара | Количество продаж | Цена за единицу \n",
    "| Общая стоимость |"
   ]
  },
  {
   "cell_type": "markdown",
   "id": "cdd2c6ea",
   "metadata": {},
   "source": [
    "Необходимо:\n",
    "1. Рассчитать общую выручку магазина.\n",
    "2. Найти товар, который был продан наибольшее количество раз.\n",
    "3. Найти товар, который принес наибольшую выручку.\n",
    "4. Составить отчет, содержащий информацию об общей выручке магазина, количестве\n",
    "проданных единиц каждого товар и доле каждого товара в общей выручке.\n",
    "\n",
    "Для решения задач необходимо использовать структуры данных, такие как массивы и\n",
    "хеш-таблицы, а также различные алгоритмы обработки данных, например, сортировку и поиск.\n",
    "Также необходимо учитывать возможные ошибки ввода-вывода и обрабатывать их в\n",
    "соответствии с требованиями."
   ]
  },
  {
   "cell_type": "code",
   "execution_count": 23,
   "id": "8f9a6841",
   "metadata": {},
   "outputs": [],
   "source": [
    "import csv\n",
    "import re\n",
    "import random\n",
    "\n",
    "import numpy as np\n",
    "import matplotlib.pyplot as plt"
   ]
  },
  {
   "cell_type": "markdown",
   "id": "94d71500",
   "metadata": {},
   "source": [
    "name = 'table.csv'"
   ]
  },
  {
   "cell_type": "code",
   "execution_count": 11,
   "id": "484c1370",
   "metadata": {},
   "outputs": [],
   "source": [
    "# Быстрая сортировка по категориям товаров\n",
    "def quick_sort(array, category):\n",
    "    if len(array) < 2:\n",
    "        return array\n",
    "\n",
    "    low, same, high = [], [], []\n",
    "\n",
    "    rand = random.choice(array)\n",
    "\n",
    "    for item in array:\n",
    "        if item[category] < rand[category]:\n",
    "            low.append(item)\n",
    "        elif item[category] == rand[category]:\n",
    "            same.append(item)\n",
    "        elif item[category] > rand[category]:\n",
    "            high.append(item)\n",
    "\n",
    "    return quick_sort(low, category) + same + quick_sort(high, category)"
   ]
  },
  {
   "cell_type": "code",
   "execution_count": 12,
   "id": "3ab720de",
   "metadata": {},
   "outputs": [],
   "source": [
    "# Бинарный поиск по названиям товаров\n",
    "def binary_searching (arr, category, searching_value):\n",
    "    # Устанавливаем границы поиска, за левую принимаем начало массива, за правую - конец, а так же запоминаем\n",
    "    # середину массива\n",
    "    left = 0\n",
    "    right = len(arr) - 1\n",
    "    mid = (left + right) // 2\n",
    "    # Запускаем цикл поиска элемента в массиве, идём до тех пор, пока либо не найдём искомый элемент, либо массив не\n",
    "    # закончится. Дальше смотрим в какую половину попал искомый элемент,и в зависимости от этого сдвигаем границы,\n",
    "    # в конце перезаписываем середину массива.\n",
    "    while arr[mid][category] != searching_value and left <= right:\n",
    "        if searching_value > arr[mid][category]:\n",
    "            left = mid + 1\n",
    "        else:\n",
    "            right = mid - 1\n",
    "        mid = (left + right) // 2\n",
    "    if left > right:\n",
    "        return None\n",
    "    else:\n",
    "        return mid"
   ]
  },
  {
   "cell_type": "code",
   "execution_count": 13,
   "id": "903ffdc5",
   "metadata": {},
   "outputs": [
    {
     "name": "stdout",
     "output_type": "stream",
     "text": [
      "[{'Номер заказа': '4001', 'Дата заказа': '01.02.2022', 'Название товара': 'Apple iPhone 14', 'Категория товара': 'Смартфоны', 'Количество продаж': '500', 'Цена за единицу': '89990', 'Общая стоимость': '44995000'}, {'Номер заказа': '4002', 'Дата заказа': '02.04.2022', 'Название товара': 'Samsung Galaxy S22 Ultra', 'Категория товара': 'Смартфоны', 'Количество продаж': '300', 'Цена за единицу': '99990', 'Общая стоимость': '29997000'}, {'Номер заказа': '4003', 'Дата заказа': '03.01.2022', 'Название товара': 'Игровые приставки', 'Категория товара': 'Игровые приставки', 'Количество продаж': '200', 'Цена за единицу': '59990', 'Общая стоимость': '11998000'}, {'Номер заказа': '4004', 'Дата заказа': '04.02.2022', 'Название товара': 'LG OLED TV', 'Категория товара': 'Телевизоры', 'Количество продаж': '150', 'Цена за единицу': '179990', 'Общая стоимость': '26998500'}, {'Номер заказа': '4005', 'Дата заказа': '05.05.2022', 'Название товара': 'Apple MacBook Pro 16', 'Категория товара': 'Ноутбуки', 'Количество продаж': '100', 'Цена за единицу': '199990', 'Общая стоимость': '19999000'}, {'Номер заказа': '4006', 'Дата заказа': '06.03.2022', 'Название товара': 'Canon EOS R7', 'Категория товара': 'Фотоаппараты', 'Количество продаж': '50', 'Цена за единицу': '249990', 'Общая стоимость': '12499500'}, {'Номер заказа': '4007', 'Дата заказа': '07.06.2022', 'Название товара': 'Bose QuietComfort 55', 'Категория товара': 'Наушники', 'Количество продаж': '100', 'Цена за единицу': '34990', 'Общая стоимость': '3499000'}, {'Номер заказа': '4008', 'Дата заказа': '08.05.2022', 'Название товара': 'Samsung Galaxy Tab S8', 'Категория товара': 'Планшеты', 'Количество продаж': '75', 'Цена за единицу': '69990', 'Общая стоимость': '5249250'}, {'Номер заказа': '4009', 'Дата заказа': '09.04.2022', 'Название товара': 'DJI Mavic 3', 'Категория товара': 'Дроны', 'Количество продаж': '25', 'Цена за единицу': '149990', 'Общая стоимость': '3749750'}, {'Номер заказа': '4010', 'Дата заказа': '10.02.2022', 'Название товара': 'Philips Hue Smart Bulbs', 'Категория товара': 'Умный дом', 'Количество продаж': '500', 'Цена за единицу': '2990', 'Общая стоимость': '1495000'}, {'Номер заказа': '5001', 'Дата заказа': '01.01.2022', 'Название товара': 'Apple iPad Pro 12.9', 'Категория товара': 'Планшеты', 'Количество продаж': '200', 'Цена за единицу': '89990', 'Общая стоимость': '17998000'}, {'Номер заказа': '5002', 'Дата заказа': '02.02.2022', 'Название товара': 'Sony PlayStation 5 Pro', 'Категория товара': 'Игровые приставки', 'Количество продаж': '100', 'Цена за единицу': '59990', 'Общая стоимость': '5999000'}, {'Номер заказа': '5003', 'Дата заказа': '03.10.2022', 'Название товара': 'Samsung Galaxy Watch 5', 'Категория товара': 'Умные часы', 'Количество продаж': '150', 'Цена за единицу': '29990', 'Общая стоимость': '4498500'}, {'Номер заказа': '5004', 'Дата заказа': '04.11.2022', 'Название товара': 'LG UltraFine', 'Категория товара': 'Мониторы', 'Количество продаж': '50', 'Цена за единицу': '99990', 'Общая стоимость': '4999500'}, {'Номер заказа': '5005', 'Дата заказа': '05.12.2022', 'Название товара': 'Canon EOS R8', 'Категория товара': 'Фотоаппараты', 'Количество продаж': '75', 'Цена за единицу': '299990', 'Общая стоимость': '22499250'}, {'Номер заказа': '5006', 'Дата заказа': '06.10.2021', 'Название товара': 'Bose SoundLink Revolve+', 'Категория товара': 'Портативные колонки', 'Количество продаж': '100', 'Цена за единицу': '24990', 'Общая стоимость': '2499000'}, {'Номер заказа': '5007', 'Дата заказа': '07.09.2022', 'Название товара': 'DJI Ronin 4D', 'Категория товара': 'Стабилизаторы', 'Количество продаж': '25', 'Цена за единицу': '499990', 'Общая стоимость': '12499750'}, {'Номер заказа': '5008', 'Дата заказа': '08.07.2021', 'Название товара': 'Samsung Galaxy Book Pro', 'Категория товара': 'Ноутбуки', 'Количество продаж': '50', 'Цена за единицу': '129990', 'Общая стоимость': '6499500'}, {'Номер заказа': '5009', 'Дата заказа': '09.07.2022', 'Название товара': 'Philips Sonicare DiamondClean', 'Категория товара': 'Электрические зубные щетки', 'Количество продаж': '200', 'Цена за единицу': '9990', 'Общая стоимость': '1998000'}, {'Номер заказа': '5010', 'Дата заказа': '10.02.2001', 'Название товара': 'Nest Learning Thermostat', 'Категория товара': 'Умный дом', 'Количество продаж': '100', 'Цена за единицу': '19990', 'Общая стоимость': '1999000'}]\n"
     ]
    }
   ],
   "source": [
    "# Функция чтения csv файлов с проверкой формата файла и данных, а также общей стоимости товара\n",
    "\n",
    "def read(name):\n",
    "    arr = []\n",
    "    if name.endswith('.csv'):\n",
    "        with open(name, newline = '') as csvfile:\n",
    "            reader = csv.DictReader(csvfile, delimiter = ';')\n",
    "            for row in reader:\n",
    "                arr.append(row)\n",
    "    else:\n",
    "        print('Неверный формат файла')\n",
    "        return []\n",
    "    for i in range(len(arr)):\n",
    "        if (not re.fullmatch(r'\\d\\d\\d\\d', arr[i]['Номер заказа']) or\n",
    "            not re.fullmatch(r'[0-3][0-9][.][0-1][0-9][.][0-9][0-9][0-9][0-9]', arr[i]['Дата заказа']) or\n",
    "            not arr[i]['Категория товара'].replace(' ', '').isalpha() or\n",
    "            not arr[i]['Количество продаж'].isdigit() or\n",
    "            not arr[i]['Цена за единицу'].isdigit() or\n",
    "            not arr[i]['Общая стоимость'].isdigit()\n",
    "           ):\n",
    "\n",
    "            print(\"Неверный формат данных\")\n",
    "            return []\n",
    "\n",
    "        if (int(arr[i]['Количество продаж']) * int(arr[i]['Цена за единицу']) != int(arr[i]['Общая стоимость'])):\n",
    "            print(\"Некорректный расчёт общей стоимости товара\")\n",
    "            return arr[i]['Название товара']\n",
    "\n",
    "    return arr\n",
    "\n",
    "print(read('table.csv'))"
   ]
  },
  {
   "cell_type": "code",
   "execution_count": 14,
   "id": "7ac7fff2",
   "metadata": {},
   "outputs": [
    {
     "name": "stdout",
     "output_type": "stream",
     "text": [
      "241969500\n"
     ]
    }
   ],
   "source": [
    "# Задание №1\n",
    "\n",
    "# Функция подсчёта общей выручки магазина за продажу всех товаров\n",
    "def total_revenue(name):\n",
    "    summ = 0\n",
    "    for a in read(name):\n",
    "        summ += int(a['Общая стоимость'])\n",
    "    return summ\n",
    "\n",
    "print(total_revenue('table.csv'))"
   ]
  },
  {
   "cell_type": "code",
   "execution_count": 15,
   "id": "f5cf7df5",
   "metadata": {},
   "outputs": [
    {
     "name": "stdout",
     "output_type": "stream",
     "text": [
      "Товар, который был продан наибольшее количество раз:\n",
      "['Apple iPhone 14', 'Philips Hue Smart Bulbs']\n",
      "Товар, который принес наибольшую выручку:\n",
      "['Apple iPhone 14']\n",
      "['DJI Ronin 4D']\n"
     ]
    }
   ],
   "source": [
    "# Задание №2, 3\n",
    "\n",
    "# Функция поиска товаров с максимальным показателем по выбраной категории\n",
    "def biggest(name, category):\n",
    "    dic = {}\n",
    "    max_value = 0\n",
    "    result = []\n",
    "\n",
    "\n",
    "    for a in read(name):\n",
    "        dic[a['Название товара']] = a[category]\n",
    "\n",
    "    for m in dic.values():\n",
    "        if int(m) >= max_value:\n",
    "            max_value = int(m)\n",
    "\n",
    "    for k in dic:\n",
    "        if int(dic[k]) == max_value:\n",
    "            result.append(k)\n",
    "\n",
    "    return result\n",
    "\n",
    "print(\"Товар, который был продан наибольшее количество раз:\")\n",
    "print(biggest('table.csv','Количество продаж'))\n",
    "print(\"Товар, который принес наибольшую выручку:\")\n",
    "print(biggest('table.csv','Общая стоимость'))\n",
    "print(biggest('table.csv','Цена за единицу'))"
   ]
  },
  {
   "cell_type": "code",
   "execution_count": 16,
   "id": "f977d2b2",
   "metadata": {},
   "outputs": [
    {
     "name": "stdout",
     "output_type": "stream",
     "text": [
      "0.00618\n"
     ]
    }
   ],
   "source": [
    "# Функция для подчёта доли общей выручки товара от общей выручки магазина\n",
    "\n",
    "def fraction(name, category, order):\n",
    "    revenue = total_revenue(name)\n",
    "    a = quick_sort(read(name), category)\n",
    "    i = binary_searching(a, category, order)\n",
    "    return round(int(a[i]['Общая стоимость']) / revenue, 5)\n",
    "\n",
    "print(fraction('table.csv', 'Название товара', 'Philips Hue Smart Bulbs'))"
   ]
  },
  {
   "cell_type": "code",
   "execution_count": 17,
   "id": "ceff6a85",
   "metadata": {},
   "outputs": [
    {
     "name": "stdout",
     "output_type": "stream",
     "text": [
      "Отчёт по документу статистики \"table\"\n",
      "\n",
      "Общая выручка магазина:\t241969500\n",
      "\n",
      "Товар: \"Apple iPhone 14\"; был продан в количестве: 500; его доля от общей выручки составила: 0.18595\n",
      "\n",
      "Товар: \"Samsung Galaxy S22 Ultra\"; был продан в количестве: 300; его доля от общей выручки составила: 0.12397\n",
      "\n",
      "Товар: \"Игровые приставки\"; был продан в количестве: 200; его доля от общей выручки составила: 0.04958\n",
      "\n",
      "Товар: \"LG OLED TV\"; был продан в количестве: 150; его доля от общей выручки составила: 0.11158\n",
      "\n",
      "Товар: \"Apple MacBook Pro 16\"; был продан в количестве: 100; его доля от общей выручки составила: 0.08265\n",
      "\n",
      "Товар: \"Canon EOS R7\"; был продан в количестве: 50; его доля от общей выручки составила: 0.05166\n",
      "\n",
      "Товар: \"Bose QuietComfort 55\"; был продан в количестве: 100; его доля от общей выручки составила: 0.01446\n",
      "\n",
      "Товар: \"Samsung Galaxy Tab S8\"; был продан в количестве: 75; его доля от общей выручки составила: 0.02169\n",
      "\n",
      "Товар: \"DJI Mavic 3\"; был продан в количестве: 25; его доля от общей выручки составила: 0.0155\n",
      "\n",
      "Товар: \"Philips Hue Smart Bulbs\"; был продан в количестве: 500; его доля от общей выручки составила: 0.00618\n",
      "\n",
      "Товар: \"Apple iPad Pro 12.9\"; был продан в количестве: 200; его доля от общей выручки составила: 0.07438\n",
      "\n",
      "Товар: \"Sony PlayStation 5 Pro\"; был продан в количестве: 100; его доля от общей выручки составила: 0.02479\n",
      "\n",
      "Товар: \"Samsung Galaxy Watch 5\"; был продан в количестве: 150; его доля от общей выручки составила: 0.01859\n",
      "\n",
      "Товар: \"LG UltraFine\"; был продан в количестве: 50; его доля от общей выручки составила: 0.02066\n",
      "\n",
      "Товар: \"Canon EOS R8\"; был продан в количестве: 75; его доля от общей выручки составила: 0.09298\n",
      "\n",
      "Товар: \"Bose SoundLink Revolve+\"; был продан в количестве: 100; его доля от общей выручки составила: 0.01033\n",
      "\n",
      "Товар: \"DJI Ronin 4D\"; был продан в количестве: 25; его доля от общей выручки составила: 0.05166\n",
      "\n",
      "Товар: \"Samsung Galaxy Book Pro\"; был продан в количестве: 50; его доля от общей выручки составила: 0.02686\n",
      "\n",
      "Товар: \"Philips Sonicare DiamondClean\"; был продан в количестве: 200; его доля от общей выручки составила: 0.00826\n",
      "\n",
      "Товар: \"Nest Learning Thermostat\"; был продан в количестве: 100; его доля от общей выручки составила: 0.00826\n",
      "\n",
      "Конец отчёта\n"
     ]
    }
   ],
   "source": [
    "# Задание №4\n",
    "\n",
    "# Функция выводящая общий отчёт по статистике магазина\n",
    "def report(name):\n",
    "    print(\"Отчёт по документу статистики \\\"\" + name.replace(\".csv\", '') + \"\\\"\\n\")\n",
    "    print(\"Общая выручка магазина:\\t\" + str(total_revenue(name)) + \"\\n\")\n",
    "    for a in read(name):\n",
    "        print(\"Товар: \\\"\" + a['Название товара'] + \"\\\"; был продан в количестве: \" + a['Количество продаж'] +\n",
    "            \"; его доля от общей выручки составила: \" + str(fraction(name, 'Название товара', a['Название товара'])) + \"\\n\")\n",
    "    return \"Конец отчёта\"\n",
    "\n",
    "print(report('table.csv'))"
   ]
  },
  {
   "cell_type": "code",
   "execution_count": 29,
   "id": "a8176796",
   "metadata": {},
   "outputs": [
    {
     "data": {
      "image/png": "[encoded data removed]",
      "text/plain": [
       "<Figure size 640x480 with 1 Axes>"
      ]
     },
     "metadata": {},
     "output_type": "display_data"
    },
    {
     "name": "stdout",
     "output_type": "stream",
     "text": [
      "None\n"
     ]
    }
   ],
   "source": [
    "def dygrum(name):\n",
    "    a_fraction = []\n",
    "    a_id = []\n",
    "    for row in read(name):\n",
    "        a_fraction.append(fraction(name, 'Номер заказа', row['Номер заказа']))\n",
    "        a_id.append(row['Номер заказа'])\n",
    "    \n",
    "    plt.pie(a_fraction, labels=a_id)\n",
    "    plt.show()\n",
    "    \n",
    "print(dygrum('table.csv'))"
   ]
  },
  {
   "cell_type": "code",
   "execution_count": null,
   "id": "f0f0bf70",
   "metadata": {},
   "outputs": [],
   "source": []
  }
 ],
 "metadata": {
  "kernelspec": {
   "display_name": "Python 3 (ipykernel)",
   "language": "python",
   "name": "python3"
  },
  "language_info": {
   "codemirror_mode": {
    "name": "ipython",
    "version": 3
   },
   "file_extension": ".py",
   "mimetype": "text/x-python",
   "name": "python",
   "nbconvert_exporter": "python",
   "pygments_lexer": "ipython3",
   "version": "3.10.6"
  }
 },
 "nbformat": 4,
 "nbformat_minor": 5
}
